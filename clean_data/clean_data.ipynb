{
 "cells": [
  {
   "cell_type": "code",
   "execution_count": null,
   "metadata": {},
   "outputs": [],
   "source": [
    "from __future__ import unicode_literals\n",
    "from hazm import *\n",
    "import unicodedata\n",
    "import re\n",
    "import numpy as np\n",
    "import os\n",
    "import time"
   ]
  },
  {
   "cell_type": "code",
   "execution_count": 46,
   "metadata": {},
   "outputs": [],
   "source": [
    "def clean_data(filename):\n",
    "    \"\"\"\n",
    "    gets a text file with this format english + /t + persain\n",
    "    remova things between (),[],<> and multiple spaces then normlize persain text with hazm \n",
    "    and write clean text in nwe file with  format persian + /t + english\n",
    "    \"\"\"\n",
    "    normalizer = Normalizer()\n",
    "    x=[]\n",
    "    regex = re.compile(\".*?\\((.*?)\\)\")\n",
    "    with open(filename,encoding='utf-8') as f:\n",
    "        content = f.readlines()\n",
    "    content = [x.strip() for x in content]\n",
    "    for con in content:\n",
    "        if '\\t' in con:\n",
    "            try:\n",
    "                en,fa=con.split('\\t')\n",
    "                #remone everything between ()\n",
    "                en=re.sub(r'\\([^)]*\\)', '',en)\n",
    "                fa=re.sub(r'\\([^)]*\\)', '',fa)\n",
    "                fa=re.sub(r'\\([^)]*\\)', '',fa)\n",
    "                #remone everything between <>\n",
    "                en=re.sub('<[^>]+>', '',en)\n",
    "                fa=re.sub('<[^>]+>', '',fa)\n",
    "                #remone everything between []\n",
    "                en=re.sub(r\"\\[([A-Za-z0-9_:/*$%!@?#&]+)\\]\", '',en)\n",
    "                fa=re.sub(r\"\\[([A-Za-z0-9_:/*$%!@?#&]+)\\]\", '',fa)\n",
    "\n",
    "                #remove multiple spaces\n",
    "                normal=normalizer.normalize(fa)\n",
    "                x.append(normal+'\\t'+en+'\\n')\n",
    "            except:\n",
    "                print(\"line with problem: \",con)\n",
    "    base_name=filename.split('.')[0]\n",
    "    f = open(base_name+\"_cleaned\"+\".txt\",\"wb\")\n",
    "    for line in x:\n",
    "        f.write(line.encode('utf-8'))\n",
    "    f.close"
   ]
  },
  {
   "cell_type": "code",
   "execution_count": 47,
   "metadata": {},
   "outputs": [
    {
     "name": "stdout",
     "output_type": "stream",
     "text": [
      "line with problem:  to try to save the younger children.\tتا جان کودکان را نجات دهد\t‌\n"
     ]
    }
   ],
   "source": [
    "clean_data(\"clean.txt\")"
   ]
  },
  {
   "cell_type": "code",
   "execution_count": null,
   "metadata": {},
   "outputs": [],
   "source": []
  },
  {
   "cell_type": "code",
   "execution_count": null,
   "metadata": {},
   "outputs": [],
   "source": []
  }
 ],
 "metadata": {
  "kernelspec": {
   "display_name": "Python 3",
   "language": "python",
   "name": "python3"
  },
  "language_info": {
   "codemirror_mode": {
    "name": "ipython",
    "version": 3
   },
   "file_extension": ".py",
   "mimetype": "text/x-python",
   "name": "python",
   "nbconvert_exporter": "python",
   "pygments_lexer": "ipython3",
   "version": "3.5.4"
  }
 },
 "nbformat": 4,
 "nbformat_minor": 2
}
